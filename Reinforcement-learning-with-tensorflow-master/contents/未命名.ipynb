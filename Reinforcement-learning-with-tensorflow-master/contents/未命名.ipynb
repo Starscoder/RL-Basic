{
 "cells": [
  {
   "cell_type": "code",
   "execution_count": 1,
   "metadata": {},
   "outputs": [],
   "source": [
    "import gym\n",
    "import time\n",
    "env = gym.make('CartPole-v0')\n",
    "env.reset()\n",
    "env.render()\n",
    "time.sleep(2)"
   ]
  },
  {
   "cell_type": "code",
   "execution_count": 1,
   "metadata": {},
   "outputs": [],
   "source": [
    "def reset(self):\n",
    "    \"\"\" 重新初始化函数 \"\"\"\n",
    "    # 利用均匀随机分布初试化环境的状态 \n",
    "    self.state = self.np_random.uniform(low=-0.05, high=0.05, size=(4,))\n",
    "    \n",
    "    # 设置当前步数为None\n",
    "    self.steps_beyond_done = None\n",
    "    \n",
    "    # 返回环境的初始化状态\n",
    "    return np.array(self.state)"
   ]
  },
  {
   "cell_type": "code",
   "execution_count": 2,
   "metadata": {},
   "outputs": [],
   "source": [
    "def render(self, mode='human'):\n",
    "    \"\"\" render()函数在这里扮演图像引擎的角色。一个仿真环境必不可少的两部分是物理引擎和图像引擎。物理引擎模拟环境中物体的运动规律；图像引擎用来显示环境中的物体图像 \"\"\"\n",
    "    screen_width = 600\n",
    "    screen_height = 400\n",
    " \n",
    "    world_width = self.x_threshold*2\n",
    "    scale = screen_width/world_width\n",
    "    carty = 100 # TOP OF CART\n",
    "    polewidth = 10.0\n",
    "    polelen = scale * 1.0\n",
    "    cartwidth = 50.0\n",
    "    cartheight = 30.0\n",
    " \n",
    "    if self.viewer is None:\n",
    "        # 导入rendering模块，利用rendering模块中的画图函数进行图形的绘制\n",
    "        from gym.envs.classic_control import rendering\n",
    " \n",
    "        # 绘制600*400的窗口函数为screen_width*screen_height\n",
    "        self.viewer = rendering.Viewer(screen_width, screen_height)\n",
    "        \n",
    "        # 创建cart矩形,rendering.FilledPolygon为填充一个矩形\n",
    "        l,r,t,b = -cartwidth/2, cartwidth/2, cartheight/2, -cartheight/2\n",
    "        axleoffset =cartheight/4.0\n",
    "        cart = rendering.FilledPolygon([(l,b), (l,t), (r,t), (r,b)])\n",
    "        # Transform给cart添加平移属性和旋转属性\n",
    "        self.carttrans = rendering.Transform()\n",
    "        cart.add_attr(self.carttrans)\n",
    "        # 在图上加入几何cart\n",
    "        self.viewer.add_geom(cart)\n",
    " \n",
    "        # 创建摆杆pole\n",
    "        l,r,t,b = -polewidth/2,polewidth/2,polelen-polewidth/2,-polewidth/2\n",
    "        pole = rendering.FilledPolygon([(l,b), (l,t), (r,t), (r,b)])        \n",
    "        # 给pole设置颜色\n",
    "        pole.set_color(.8,.6,.4)\n",
    "        # 添加摆杆转换矩阵属性\n",
    "        self.poletrans = rendering.Transform(translation=(0, axleoffset))\n",
    "        pole.add_attr(self.poletrans)\n",
    "        pole.add_attr(self.carttrans)\n",
    "        # 加入几何体\n",
    "        self.viewer.add_geom(pole)\n",
    "        \n",
    "        # 创建摆杆和台车之间的连接\n",
    "        self.axle = rendering.make_circle(polewidth/2)\n",
    "        self.axle.add_attr(self.poletrans)\n",
    "        self.axle.add_attr(self.carttrans)\n",
    "        self.axle.set_color(.5,.5,.8)\n",
    "        self.viewer.add_geom(self.axle)\n",
    "        \n",
    "        #创建台车来回滑动的轨道，即一条直线\n",
    "        self.track = rendering.Line((0,carty), (screen_width,carty))\n",
    "        self.track.set_color(0,0,0)\n",
    "        self.viewer.add_geom(self.track)\n",
    " \n",
    "    if self.state is None: return None\n",
    " \n",
    "    # 设置平移属性\n",
    "    x = self.state\n",
    "    cartx = x[0]*scale+screen_width/2.0 # MIDDLE OF CART\n",
    "    self.carttrans.set_translation(cartx, carty)\n",
    "    self.poletrans.set_rotation(-x[2])\n",
    " \n",
    "    return self.viewer.render(return_rgb_array = mode=='rgb_array')"
   ]
  },
  {
   "cell_type": "code",
   "execution_count": 3,
   "metadata": {},
   "outputs": [],
   "source": [
    "def step(self, action):\n",
    "    \"\"\" 该函数在仿真器中扮演物理引擎的角色。其输入是动作a，输出是：下一步状态，立即回报，是否终止，调试项。该函数描述了智能体与环境交互的所有信息，是环境文件中最重要的函数。在该函数中，一般利用智能体的运动学模型和动力学模型计算下一步的状态和立即回报，并判断是否达到终止状态 \"\"\"\n",
    "    assert self.action_space.contains(action), \"%r (%s) invalid\"%(action, type(action))\n",
    "    state = self.state\n",
    "    # 系统的当前状态\n",
    "    x, x_dot, theta, theta_dot = state\n",
    "    # 输入动作，即作用到车上的力\n",
    "    force = self.force_mag if action==1 else -self.force_mag\n",
    "    # 余弦函数\n",
    "    costheta = math.cos(theta)\n",
    "    # 正弦函数\n",
    "    sintheta = math.sin(theta)\n",
    "    # 车摆的动力学方程式，即加速度与动作之间的关系\n",
    "    temp = (force + self.polemass_length * theta_dot * theta_dot * sintheta) / self.total_mass\n",
    "    # 摆的角加速度\n",
    "    thetaacc = (self.gravity * sintheta - costheta* temp) / (self.length * (4.0/3.0 - self.masspole * costheta * costheta / self.total_mass))\n",
    "    # 小车的平加速度\n",
    "    xacc  = temp - self.polemass_length * thetaacc * costheta / self.total_mass\n",
    "    # tau是更新步长0.02，下面是计算下一步的状态\n",
    "    x  = x + self.tau * x_dot\n",
    "    x_dot = x_dot + self.tau * xacc\n",
    "    theta = theta + self.tau * theta_dot\n",
    "    theta_dot = theta_dot + self.tau * thetaacc\n",
    "    self.state = (x,x_dot,theta,theta_dot)\n",
    "    # 设定小车和摆杆的阈值\n",
    "    done =  x < -self.x_threshold \\\n",
    "            or x > self.x_threshold \\\n",
    "            or theta < -self.theta_threshold_radians \\\n",
    "            or theta > self.theta_threshold_radians\n",
    "    done = bool(done)\n",
    " # \n",
    "    if not done:\n",
    "        reward = 1.0\n",
    "    elif self.steps_beyond_done is None:\n",
    "        # Pole just fell!\n",
    "        self.steps_beyond_done = 0\n",
    "        reward = 1.0\n",
    "    else:\n",
    "        if self.steps_beyond_done == 0:\n",
    "            logger.warn(\"You are calling 'step()' even though this environment has already returned done = True. You should always call 'reset()' once you receive 'done = True' -- any further steps are undefined behavior.\")\n",
    "        self.steps_beyond_done += 1\n",
    "        reward = 0.0\n",
    " \n",
    "    return np.array(self.state), reward, done, {}"
   ]
  },
  {
   "cell_type": "code",
   "execution_count": 51,
   "metadata": {},
   "outputs": [
    {
     "data": {
      "image/png": "[encoded data removed]",
      "text/plain": [
       "<Figure size 432x288 with 1 Axes>"
      ]
     },
     "metadata": {
      "needs_background": "light"
     },
     "output_type": "display_data"
    }
   ],
   "source": [
    "import matplotlib.pyplot as plt\n",
    "import numpy as np\n",
    "%matplotlib inline\n",
    "x=np.linspace(0,2*np.pi,100)\n",
    "y=np.sin(x)\n",
    "y2 = np.cos(x-np.pi/2)\n",
    "# y3 = np.c+\n",
    "plt.grid(True)\n",
    "plt.xlabel(\"X values\")\n",
    "plt.ylabel(\"y labels\")\n",
    "plt.title(\"my first graph\")\n",
    "# plt.axis([0,5,,11])\n",
    "plt.plot(x,y,'b^',linewidth=3,markersize=7,label='sin')\n",
    "plt.plot(x,y2,'y-',linewidth=3,markersize=7,label='cos')\n",
    "# plt.plot(x,y3,'y:o',linewidth=3,markersize=7,label='yello')\n",
    "\n",
    "plt.legend(loc='upper center')\n",
    "plt.show()"
   ]
  },
  {
   "cell_type": "code",
   "execution_count": null,
   "metadata": {},
   "outputs": [],
   "source": []
  }
 ],
 "metadata": {
  "kernelspec": {
   "display_name": "Python 3",
   "language": "python",
   "name": "python3"
  },
  "language_info": {
   "codemirror_mode": {
    "name": "ipython",
    "version": 3
   },
   "file_extension": ".py",
   "mimetype": "text/x-python",
   "name": "python",
   "nbconvert_exporter": "python",
   "pygments_lexer": "ipython3",
   "version": "3.7.1"
  },
  "toc": {
   "base_numbering": 1,
   "nav_menu": {},
   "number_sections": true,
   "sideBar": true,
   "skip_h1_title": false,
   "title_cell": "Table of Contents",
   "title_sidebar": "Contents",
   "toc_cell": false,
   "toc_position": {},
   "toc_section_display": true,
   "toc_window_display": false
  },
  "varInspector": {
   "cols": {
    "lenName": 16,
    "lenType": 16,
    "lenVar": 40
   },
   "kernels_config": {
    "python": {
     "delete_cmd_postfix": "",
     "delete_cmd_prefix": "del ",
     "library": "var_list.py",
     "varRefreshCmd": "print(var_dic_list())"
    },
    "r": {
     "delete_cmd_postfix": ") ",
     "delete_cmd_prefix": "rm(",
     "library": "var_list.r",
     "varRefreshCmd": "cat(var_dic_list()) "
    }
   },
   "types_to_exclude": [
    "module",
    "function",
    "builtin_function_or_method",
    "instance",
    "_Feature"
   ],
   "window_display": false
  }
 },
 "nbformat": 4,
 "nbformat_minor": 2
}
